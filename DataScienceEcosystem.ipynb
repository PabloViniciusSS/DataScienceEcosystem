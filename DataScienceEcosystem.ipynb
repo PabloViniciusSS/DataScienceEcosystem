{
  "nbformat": 4,
  "nbformat_minor": 0,
  "metadata": {
    "colab": {
      "provenance": [],
      "authorship_tag": "ABX9TyNcRPKBTh0e8lF0VzsHBQXp",
      "include_colab_link": true
    },
    "kernelspec": {
      "name": "python3",
      "display_name": "Python 3"
    },
    "language_info": {
      "name": "python"
    }
  },
  "cells": [
    {
      "cell_type": "markdown",
      "metadata": {
        "id": "view-in-github",
        "colab_type": "text"
      },
      "source": [
        "<a href=\"https://colab.research.google.com/github/PabloViniciusSS/Api_Listacompras/blob/main/DataScienceEcosystem.ipynb\" target=\"_parent\"><img src=\"https://colab.research.google.com/assets/colab-badge.svg\" alt=\"Open In Colab\"/></a>"
      ]
    },
    {
      "cell_type": "markdown",
      "source": [
        "# Data Science Tools and Ecosystem"
      ],
      "metadata": {
        "id": "_uqFQvG0O4JJ"
      }
    },
    {
      "cell_type": "markdown",
      "source": [
        "In this notebook, Data Science Tootls and Ecosystem are summarized"
      ],
      "metadata": {
        "id": "zxaRP1hjPXnd"
      }
    },
    {
      "cell_type": "markdown",
      "source": [
        "**Objectives:** The aim of this course is to look at the main tools used and their characteristics, giving a broad overview of all the tools.\n",
        "<br>\n",
        "\n",
        "\n",
        "<h4>List popular languages for Data Science:</h4>\n",
        "\n",
        "*   Free and paid data science tools;\n",
        "*   Data Science Languages;\n",
        "*   Packages, APIs, datasets and models;\n",
        "*   Jupyter Notebooks e JupyterLab;\n",
        "*   RStudio e Github.\n",
        "\n",
        "\n"
      ],
      "metadata": {
        "id": "NgrrGvM42JHD"
      }
    },
    {
      "cell_type": "markdown",
      "source": [
        "Some of the popular languanges that Data Scientists use are:\n",
        "\n",
        "1.   Python\n",
        "2.   SQL\n",
        "3.   R\n"
      ],
      "metadata": {
        "id": "imZaVKZXP3kV"
      }
    },
    {
      "cell_type": "markdown",
      "source": [
        "Some of the commonly used libraries used by Data Scientists include:\n",
        "\n",
        "1.  Numpy\n",
        "2.  Pandas\n",
        "3.  TensorFlow"
      ],
      "metadata": {
        "id": "Z8KY3NXJQfad"
      }
    },
    {
      "cell_type": "markdown",
      "source": [
        "<table><tr><th>  <h1> Data Science Tools </h1></th></tr>\n",
        "<tr><th> Jupyter </th></tr>\n",
        "<tr><th> Anaconda </th></tr>\n",
        "<tr><th> RStudio </th></tr>\n",
        "<table>"
      ],
      "metadata": {
        "id": "iEoY1FQBRBzv"
      }
    },
    {
      "cell_type": "markdown",
      "source": [
        "<h3>Below are a few examples of evaluating arithmetic expressions in Python</h3>"
      ],
      "metadata": {
        "id": "yYx0uJ6QU-qk"
      }
    },
    {
      "cell_type": "code",
      "source": [
        "(3*4)+5\n",
        "\n",
        "#This a simple arithmetic expression to mutiply then add integers"
      ],
      "metadata": {
        "colab": {
          "base_uri": "https://localhost:8080/"
        },
        "id": "mbFu01fPVQP1",
        "outputId": "2547b725-a875-4123-f83d-3c4db8d01f69"
      },
      "execution_count": 4,
      "outputs": [
        {
          "output_type": "execute_result",
          "data": {
            "text/plain": [
              "17"
            ]
          },
          "metadata": {},
          "execution_count": 4
        }
      ]
    },
    {
      "cell_type": "code",
      "source": [
        "#This will convert 200 minutes to hours by diving by 60\n",
        "\n",
        "200 / 60"
      ],
      "metadata": {
        "colab": {
          "base_uri": "https://localhost:8080/"
        },
        "id": "wtsakzT8Vqwk",
        "outputId": "b2c26724-3db5-422c-b6e2-018aa78a61ac"
      },
      "execution_count": 6,
      "outputs": [
        {
          "output_type": "execute_result",
          "data": {
            "text/plain": [
              "3.3333333333333335"
            ]
          },
          "metadata": {},
          "execution_count": 6
        }
      ]
    },
    {
      "cell_type": "markdown",
      "source": [
        "<h2>Author</h2>\n",
        "\n",
        "Pablo Vinícius Sousa Silva"
      ],
      "metadata": {
        "id": "MUtUHdNMWMtv"
      }
    }
  ]
}